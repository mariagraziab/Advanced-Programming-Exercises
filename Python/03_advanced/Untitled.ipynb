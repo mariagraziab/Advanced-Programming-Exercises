{
 "cells": [
  {
   "cell_type": "code",
   "execution_count": 2,
   "metadata": {},
   "outputs": [],
   "source": [
    "def control(func):\n",
    "    \n",
    "    def controlled(*args):\n",
    "        param_numb = len(args)\n",
    "        \n",
    "        \n",
    "        if param_numb not in [2,3,4]:\n",
    "            raise TypeError(\"Wrong number of argument!\")\n",
    "        if param_numb == 2: \n",
    "            result = func(args[0],0,args[1])\n",
    "            return result\n",
    "        elif param_numb ==3: \n",
    "            result = func(args[0],args[1],args[2])\n",
    "            return result\n",
    "        elif param_numb == 4: \n",
    "            result = func(args[0],args[1] , args[2], args[3])\n",
    "            return result\n",
    "    \n",
    "    return controlled\n",
    "    \n",
    "\n",
    "\n",
    "\n",
    "class MyRange(): \n",
    "    @control\n",
    "    def __init__(self, start,stop, step=1):\n",
    "        l = []\n",
    "        i = start\n",
    "        while(i<stop):\n",
    "            l.append(i)\n",
    "            i+=step\n",
    "        self.range = tuple(l)\n",
    "        \n",
    "   \n",
    "        \n",
    "    \n",
    "    def __call__(self):\n",
    "        return self.range\n",
    "\n",
    "    \n",
    "    \n",
    "    \n",
    "    \n",
    "    \n",
    "def myrange(*args):\n",
    "    a = MyRange(*args)\n",
    "    return a()\n",
    "    "
   ]
  },
  {
   "cell_type": "code",
   "execution_count": 3,
   "metadata": {},
   "outputs": [
    {
     "name": "stdout",
     "output_type": "stream",
     "text": [
      "2\n",
      "5\n",
      "8\n",
      "11\n",
      "14\n",
      "17\n"
     ]
    }
   ],
   "source": [
    "for i in myrange(2,20,3):\n",
    "    print(i)"
   ]
  },
  {
   "cell_type": "code",
   "execution_count": 4,
   "metadata": {},
   "outputs": [],
   "source": [
    "a = [i for i in range(3,27,3)]"
   ]
  },
  {
   "cell_type": "code",
   "execution_count": 5,
   "metadata": {},
   "outputs": [
    {
     "name": "stdout",
     "output_type": "stream",
     "text": [
      "[3, 6, 9, 12, 15, 18, 21, 24]\n"
     ]
    }
   ],
   "source": [
    "print(a)"
   ]
  },
  {
   "cell_type": "code",
   "execution_count": null,
   "metadata": {},
   "outputs": [],
   "source": []
  },
  {
   "cell_type": "code",
   "execution_count": null,
   "metadata": {},
   "outputs": [],
   "source": []
  }
 ],
 "metadata": {
  "kernelspec": {
   "display_name": "Python 3",
   "language": "python",
   "name": "python3"
  },
  "language_info": {
   "codemirror_mode": {
    "name": "ipython",
    "version": 3
   },
   "file_extension": ".py",
   "mimetype": "text/x-python",
   "name": "python",
   "nbconvert_exporter": "python",
   "pygments_lexer": "ipython3",
   "version": "3.5.2"
  }
 },
 "nbformat": 4,
 "nbformat_minor": 4
}
